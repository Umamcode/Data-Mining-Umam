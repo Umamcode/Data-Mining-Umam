{
  "nbformat": 4,
  "nbformat_minor": 0,
  "metadata": {
    "colab": {
      "provenance": [],
      "mount_file_id": "1EwPZxWmRtv5TNcQMntDhdLtoIbK_bt5E",
      "authorship_tag": "ABX9TyMTi0CF5BRAfvOI1mERHtec",
      "include_colab_link": true
    },
    "kernelspec": {
      "name": "python3",
      "display_name": "Python 3"
    },
    "language_info": {
      "name": "python"
    }
  },
  "cells": [
    {
      "cell_type": "markdown",
      "metadata": {
        "id": "view-in-github",
        "colab_type": "text"
      },
      "source": [
        "<a href=\"https://colab.research.google.com/github/Umamcode/Data-Mining-Umam/blob/main/Praktikum1_DM.ipynb\" target=\"_parent\"><img src=\"https://colab.research.google.com/assets/colab-badge.svg\" alt=\"Open In Colab\"/></a>"
      ]
    },
    {
      "cell_type": "code",
      "execution_count": null,
      "metadata": {
        "id": "cTPdyykACmVw",
        "colab": {
          "base_uri": "https://localhost:8080/"
        },
        "outputId": "720f43e0-2935-4ead-e302-9131804bf1a7"
      },
      "outputs": [
        {
          "output_type": "stream",
          "name": "stdout",
          "text": [
            "Object Creation:\n",
            "Series:\n",
            "0    1.0\n",
            "1    3.0\n",
            "2    5.0\n",
            "3    NaN\n",
            "4    6.0\n",
            "5    8.0\n",
            "dtype: float64\n",
            "\n",
            "DataFrame:\n",
            "                   A         B         C         D\n",
            "2023-10-01  0.107522 -0.713966 -0.721804 -0.286719\n",
            "2023-10-02 -1.691828 -1.105189 -1.635703 -0.719703\n",
            "2023-10-03  0.858727 -1.386111 -1.945532  1.114074\n",
            "2023-10-04  0.771823 -0.888357 -0.688769 -0.048450\n",
            "2023-10-05 -1.974497  1.329005  1.533193  1.144223\n",
            "2023-10-06  1.166200  0.728039 -0.702432 -1.059685\n",
            "==================================================\n"
          ]
        }
      ],
      "source": [
        "import pandas as pd\n",
        "import numpy as np\n",
        "\n",
        "# Object Creation\n",
        "s = pd.Series([1, 3, 5, np.nan, 6, 8])\n",
        "dates = pd.date_range('2023-10-01', periods=6)\n",
        "df = pd.DataFrame(np.random.randn(6, 4), index=dates, columns=list('ABCD'))\n",
        "\n",
        "print(\"Object Creation:\")\n",
        "print(\"Series:\")\n",
        "print(s)\n",
        "print(\"\\nDataFrame:\")\n",
        "print(df)\n",
        "print(\"=\"*50)"
      ]
    },
    {
      "cell_type": "code",
      "source": [
        "# Viewing Data\n",
        "print(\"Viewing Data: \")\n",
        "print(\"First 3 rows: \")\n",
        "print(df.head(3))\n",
        "print(\"/nLast 2 rows:\")\n",
        "print(df.tail(2))\n",
        "print(\"/nIndex and Columns:\")\n",
        "print(df.index)\n",
        "print(df.columns)\n",
        "print(\"=\"*40)"
      ],
      "metadata": {
        "colab": {
          "base_uri": "https://localhost:8080/"
        },
        "id": "o37w7j54GId2",
        "outputId": "e74bf5a2-16b2-4cd4-fb1b-02aabba7ccf4"
      },
      "execution_count": null,
      "outputs": [
        {
          "output_type": "stream",
          "name": "stdout",
          "text": [
            "Viewing Data: \n",
            "First 3 rows: \n",
            "                   A         B         C         D\n",
            "2023-10-01  0.107522 -0.713966 -0.721804 -0.286719\n",
            "2023-10-02 -1.691828 -1.105189 -1.635703 -0.719703\n",
            "2023-10-03  0.858727 -1.386111 -1.945532  1.114074\n",
            "/nLast 2 rows:\n",
            "                   A         B         C         D\n",
            "2023-10-05 -1.974497  1.329005  1.533193  1.144223\n",
            "2023-10-06  1.166200  0.728039 -0.702432 -1.059685\n",
            "/nIndex and Columns:\n",
            "DatetimeIndex(['2023-10-01', '2023-10-02', '2023-10-03', '2023-10-04',\n",
            "               '2023-10-05', '2023-10-06'],\n",
            "              dtype='datetime64[ns]', freq='D')\n",
            "Index(['A', 'B', 'C', 'D'], dtype='object')\n",
            "========================================\n"
          ]
        }
      ]
    },
    {
      "cell_type": "code",
      "source": [
        "# Selection\n",
        "print(\"Selection:\")\n",
        "print(\"Selecting a column (A):\")\n",
        "print(df['A'])\n",
        "print(\"\\nSelecting by label (row 0):\")\n",
        "print(df.loc[dates[0]])\n",
        "print(\"\\nSelecting by position (row 1):\")\n",
        "print(df.iloc[1])\n",
        "print(\"\\nSelecting a subset of rows and columns:\")\n",
        "print(df.loc[dates[1:3], ['A', 'B']])\n",
        "print(\"=\"*40)\n"
      ],
      "metadata": {
        "colab": {
          "base_uri": "https://localhost:8080/"
        },
        "id": "Edy6CXfWGLst",
        "outputId": "0423cf47-5e0f-4199-aa0b-18026278774a"
      },
      "execution_count": null,
      "outputs": [
        {
          "output_type": "stream",
          "name": "stdout",
          "text": [
            "Selection:\n",
            "Selecting a column (A):\n",
            "2023-10-01    0.107522\n",
            "2023-10-02   -1.691828\n",
            "2023-10-03    0.858727\n",
            "2023-10-04    0.771823\n",
            "2023-10-05   -1.974497\n",
            "2023-10-06    1.166200\n",
            "Freq: D, Name: A, dtype: float64\n",
            "\n",
            "Selecting by label (row 0):\n",
            "A    0.107522\n",
            "B   -0.713966\n",
            "C   -0.721804\n",
            "D   -0.286719\n",
            "Name: 2023-10-01 00:00:00, dtype: float64\n",
            "\n",
            "Selecting by position (row 1):\n",
            "A   -1.691828\n",
            "B   -1.105189\n",
            "C   -1.635703\n",
            "D   -0.719703\n",
            "Name: 2023-10-02 00:00:00, dtype: float64\n",
            "\n",
            "Selecting a subset of rows and columns:\n",
            "                   A         B\n",
            "2023-10-02 -1.691828 -1.105189\n",
            "2023-10-03  0.858727 -1.386111\n",
            "========================================\n"
          ]
        }
      ]
    },
    {
      "cell_type": "code",
      "source": [
        "# Missing Data\n",
        "df1 = df.reindex(index=dates[0:4], columns=list(df.columns) + ['E'])\n",
        "df1.loc[dates[0]:dates[1], 'E'] = 1\n",
        "\n",
        "print(\"Missing Data:\")\n",
        "print(\"DataFrame with missing values:\")\n",
        "print(df1)\n",
        "print(\"\\nDropping rows with missing values:\")\n",
        "print(df1.fillna(value=0))\n",
        "print(\"=\"*60)"
      ],
      "metadata": {
        "colab": {
          "base_uri": "https://localhost:8080/"
        },
        "id": "5psN8vkGHhIU",
        "outputId": "82539813-fd39-4633-9aa5-33bb2019d260"
      },
      "execution_count": null,
      "outputs": [
        {
          "output_type": "stream",
          "name": "stdout",
          "text": [
            "Missing Data:\n",
            "DataFrame with missing values:\n",
            "                   A         B         C         D    E\n",
            "2023-10-01  0.107522 -0.713966 -0.721804 -0.286719  1.0\n",
            "2023-10-02 -1.691828 -1.105189 -1.635703 -0.719703  1.0\n",
            "2023-10-03  0.858727 -1.386111 -1.945532  1.114074  NaN\n",
            "2023-10-04  0.771823 -0.888357 -0.688769 -0.048450  NaN\n",
            "\n",
            "Dropping rows with missing values:\n",
            "                   A         B         C         D    E\n",
            "2023-10-01  0.107522 -0.713966 -0.721804 -0.286719  1.0\n",
            "2023-10-02 -1.691828 -1.105189 -1.635703 -0.719703  1.0\n",
            "2023-10-03  0.858727 -1.386111 -1.945532  1.114074  0.0\n",
            "2023-10-04  0.771823 -0.888357 -0.688769 -0.048450  0.0\n",
            "============================================================\n"
          ]
        }
      ]
    },
    {
      "cell_type": "code",
      "source": [
        "# Operation\n",
        "print(\"Operations:\")\n",
        "print(\"Mean of each column:\")\n",
        "print(df.mean())\n",
        "print('\\nSum of each row')\n",
        "print(df.sum(axis=1))\n",
        "print(\"=\"*40)"
      ],
      "metadata": {
        "colab": {
          "base_uri": "https://localhost:8080/"
        },
        "id": "GixJDuolJEoX",
        "outputId": "5b071222-a7ef-4819-f64b-a419105adf7e"
      },
      "execution_count": null,
      "outputs": [
        {
          "output_type": "stream",
          "name": "stdout",
          "text": [
            "Operations:\n",
            "Mean of each column:\n",
            "A   -0.127009\n",
            "B   -0.339430\n",
            "C   -0.693508\n",
            "D    0.023957\n",
            "dtype: float64\n",
            "\n",
            "Sum of each row\n",
            "2023-10-01   -1.614967\n",
            "2023-10-02   -5.152423\n",
            "2023-10-03   -1.358842\n",
            "2023-10-04   -0.853753\n",
            "2023-10-05    2.031923\n",
            "2023-10-06    0.132123\n",
            "Freq: D, dtype: float64\n",
            "========================================\n"
          ]
        }
      ]
    },
    {
      "cell_type": "code",
      "source": [
        "# Merge\n",
        "left = pd.DataFrame({'key': ['K0', 'K1', 'K2', 'K3'],\n",
        "                     'A': ['A0', 'A1', 'A2', 'A3'],\n",
        "                     'B': ['B0', 'B1', 'B2', 'B3']})\n",
        "\n",
        "right = pd.DataFrame({'key': ['K0', 'K1', 'K2', 'K3'],\n",
        "                      'C': ['C0', 'C1', 'C2', 'C3'],\n",
        "                      'D': ['D0', 'D1', 'D2', 'D3']})\n",
        "\n",
        "merged_df = pd.merge(left, right, on='key')\n",
        "\n",
        "print(\"Merge:\")\n",
        "print(\"Merged DataFrame:\")\n",
        "print(merged_df)\n",
        "print(\"=\"*40)\n"
      ],
      "metadata": {
        "colab": {
          "base_uri": "https://localhost:8080/"
        },
        "id": "0AqXiOlfJ1WB",
        "outputId": "992873be-b540-418e-e230-4d6927e12eb3"
      },
      "execution_count": null,
      "outputs": [
        {
          "output_type": "stream",
          "name": "stdout",
          "text": [
            "Merge:\n",
            "Merged DataFrame:\n",
            "  key   A   B   C   D\n",
            "0  K0  A0  B0  C0  D0\n",
            "1  K1  A1  B1  C1  D1\n",
            "2  K2  A2  B2  C2  D2\n",
            "3  K3  A3  B3  C3  D3\n",
            "========================================\n"
          ]
        }
      ]
    },
    {
      "cell_type": "code",
      "source": [
        "# Grouping\n",
        "grouped = df.groupby('A').sum()\n",
        "print(\"Grouping:\")\n",
        "print(\"Grouped DataFrame:\")\n",
        "print(grouped)\n",
        "print(\"=\"*40)"
      ],
      "metadata": {
        "colab": {
          "base_uri": "https://localhost:8080/"
        },
        "id": "MKcxlCNrKTvo",
        "outputId": "ce20d635-19bc-4dbe-e520-d63e37412bda"
      },
      "execution_count": null,
      "outputs": [
        {
          "output_type": "stream",
          "name": "stdout",
          "text": [
            "Grouping:\n",
            "Grouped DataFrame:\n",
            "                  B         C         D\n",
            "A                                      \n",
            "-1.974497  1.329005  1.533193  1.144223\n",
            "-1.691828 -1.105189 -1.635703 -0.719703\n",
            " 0.107522 -0.713966 -0.721804 -0.286719\n",
            " 0.771823 -0.888357 -0.688769 -0.048450\n",
            " 0.858727 -1.386111 -1.945532  1.114074\n",
            " 1.166200  0.728039 -0.702432 -1.059685\n",
            "========================================\n"
          ]
        }
      ]
    },
    {
      "cell_type": "code",
      "source": [
        "# Reshaping\n",
        "stacked=df.stack()\n",
        "unstacked=stacked.unstack()\n",
        "\n",
        "print(\"Reshaping:\")\n",
        "print(\"Stacked DataFrame:\")\n",
        "print(stacked)\n",
        "print(\"\\nUnstacked DataFrame:\")\n",
        "print(unstacked)\n",
        "print(\"=\"*40)"
      ],
      "metadata": {
        "colab": {
          "base_uri": "https://localhost:8080/"
        },
        "id": "Z7F1FGtmKfUm",
        "outputId": "9fe7a03e-ed52-4cb1-e640-c0bfe2eb621b"
      },
      "execution_count": null,
      "outputs": [
        {
          "output_type": "stream",
          "name": "stdout",
          "text": [
            "Reshaping:\n",
            "Stacked DataFrame:\n",
            "2023-10-01  A    0.107522\n",
            "            B   -0.713966\n",
            "            C   -0.721804\n",
            "            D   -0.286719\n",
            "2023-10-02  A   -1.691828\n",
            "            B   -1.105189\n",
            "            C   -1.635703\n",
            "            D   -0.719703\n",
            "2023-10-03  A    0.858727\n",
            "            B   -1.386111\n",
            "            C   -1.945532\n",
            "            D    1.114074\n",
            "2023-10-04  A    0.771823\n",
            "            B   -0.888357\n",
            "            C   -0.688769\n",
            "            D   -0.048450\n",
            "2023-10-05  A   -1.974497\n",
            "            B    1.329005\n",
            "            C    1.533193\n",
            "            D    1.144223\n",
            "2023-10-06  A    1.166200\n",
            "            B    0.728039\n",
            "            C   -0.702432\n",
            "            D   -1.059685\n",
            "dtype: float64\n",
            "\n",
            "Unstacked DataFrame:\n",
            "                   A         B         C         D\n",
            "2023-10-01  0.107522 -0.713966 -0.721804 -0.286719\n",
            "2023-10-02 -1.691828 -1.105189 -1.635703 -0.719703\n",
            "2023-10-03  0.858727 -1.386111 -1.945532  1.114074\n",
            "2023-10-04  0.771823 -0.888357 -0.688769 -0.048450\n",
            "2023-10-05 -1.974497  1.329005  1.533193  1.144223\n",
            "2023-10-06  1.166200  0.728039 -0.702432 -1.059685\n",
            "========================================\n"
          ]
        }
      ]
    },
    {
      "cell_type": "code",
      "source": [
        "#Time Series\n",
        "ts=pd.Series(np.random.randn(1000), index=pd.date_range('2023-01-01', periods=1000))\n",
        "cumulative_sum=ts.cumsum()\n",
        "print(\"Time Series:\")\n",
        "print(ts.head())\n",
        "print(\"\\nCumulative Sum:\")\n",
        "print(cumulative_sum.head())\n",
        "print(\"-\"*40)"
      ],
      "metadata": {
        "colab": {
          "base_uri": "https://localhost:8080/"
        },
        "id": "cOly1THuLG9l",
        "outputId": "22d05e39-e72c-4793-f5e7-b9c43de71665"
      },
      "execution_count": null,
      "outputs": [
        {
          "output_type": "stream",
          "name": "stdout",
          "text": [
            "Time Series:\n",
            "2023-01-01   -0.232005\n",
            "2023-01-02    0.315585\n",
            "2023-01-03    1.798983\n",
            "2023-01-04   -0.397362\n",
            "2023-01-05    0.130477\n",
            "Freq: D, dtype: float64\n",
            "\n",
            "Cumulative Sum:\n",
            "2023-01-01   -0.232005\n",
            "2023-01-02    0.083580\n",
            "2023-01-03    1.882563\n",
            "2023-01-04    1.485200\n",
            "2023-01-05    1.615677\n",
            "Freq: D, dtype: float64\n",
            "----------------------------------------\n"
          ]
        }
      ]
    },
    {
      "cell_type": "code",
      "source": [
        "#Categoricals\n",
        "import pandas as pd\n",
        "# Create a categorical Series\n",
        "s = pd.Series([\"cat\", \"dog\", \"bird\", \"cat\", \"dog\"], dtype=\"category\")\n",
        "#Define new categories\n",
        "new_categories=[\"Category 1\", \"Category 2\", \"Category 3\"]\n",
        "#Create a new categorical Series with the new categories\n",
        "s_new = s.cat.set_categories(new_categories)\n",
        "print(\"Categoricals:\")\n",
        "print(\"Original Categorical Series:\")\n",
        "print(s)\n",
        "print(\"\\nNew Categorical Series with updated categories:\")\n",
        "print(s_new)"
      ],
      "metadata": {
        "colab": {
          "base_uri": "https://localhost:8080/"
        },
        "id": "ymuzSZaKLibR",
        "outputId": "774fcb20-b263-44fb-9a0e-47ce869585ad"
      },
      "execution_count": null,
      "outputs": [
        {
          "output_type": "stream",
          "name": "stdout",
          "text": [
            "Categoricals:\n",
            "Original Categorical Series:\n",
            "0     cat\n",
            "1     dog\n",
            "2    bird\n",
            "3     cat\n",
            "4     dog\n",
            "dtype: category\n",
            "Categories (3, object): ['bird', 'cat', 'dog']\n",
            "\n",
            "New Categorical Series with updated categories:\n",
            "0    NaN\n",
            "1    NaN\n",
            "2    NaN\n",
            "3    NaN\n",
            "4    NaN\n",
            "dtype: category\n",
            "Categories (3, object): ['Category 1', 'Category 2', 'Category 3']\n"
          ]
        }
      ]
    },
    {
      "cell_type": "code",
      "source": [
        "import matplotlib.pyplot as plt\n",
        "# Plotting\n",
        "df.plot()\n",
        "plt.show()\n",
        "\n",
        "print(\"Plotting:\")\n",
        "print(\"=\"*40)"
      ],
      "metadata": {
        "colab": {
          "base_uri": "https://localhost:8080/",
          "height": 497
        },
        "id": "OMDYUBItMBGq",
        "outputId": "828aaa26-4e4e-4da5-95c2-da5480bc9a1d"
      },
      "execution_count": null,
      "outputs": [
        {
          "output_type": "display_data",
          "data": {
            "text/plain": [
              "<Figure size 640x480 with 1 Axes>"
            ],
            "image/png": "[encoded data removed]"
          },
          "metadata": {}
        },
        {
          "output_type": "stream",
          "name": "stdout",
          "text": [
            "Plotting:\n",
            "========================================\n"
          ]
        }
      ]
    },
    {
      "cell_type": "code",
      "source": [
        "# Importing and Exporting Data\n",
        "imported_df = pd.read_csv('/content/sample_data/sample_data.csv')\n",
        "\n",
        "print(\"Importing and Exporting Data:\")\n",
        "print(\"Exported DataFrame to CSV:\")\n",
        "print(df)\n",
        "print(\"\\nImported DataFrame from CSV:\")\n",
        "print(imported_df)\n",
        "print(\"=\"*40)\n",
        "df.to_csv('sampel_data2.csv')"
      ],
      "metadata": {
        "colab": {
          "base_uri": "https://localhost:8080/"
        },
        "id": "aDmI5KM5MrSn",
        "outputId": "f774baa7-c385-4dbc-ae6c-c7ba5484515a"
      },
      "execution_count": null,
      "outputs": [
        {
          "output_type": "stream",
          "name": "stdout",
          "text": [
            "Importing and Exporting Data:\n",
            "Exported DataFrame to CSV:\n",
            "                   A         B         C         D\n",
            "2023-10-01  0.107522 -0.713966 -0.721804 -0.286719\n",
            "2023-10-02 -1.691828 -1.105189 -1.635703 -0.719703\n",
            "2023-10-03  0.858727 -1.386111 -1.945532  1.114074\n",
            "2023-10-04  0.771823 -0.888357 -0.688769 -0.048450\n",
            "2023-10-05 -1.974497  1.329005  1.533193  1.144223\n",
            "2023-10-06  1.166200  0.728039 -0.702432 -1.059685\n",
            "\n",
            "Imported DataFrame from CSV:\n",
            "    SUBJECT Stim1 Stim2  Response\n",
            "0         1     B     D         5\n",
            "1         1     A     B         1\n",
            "2         1     B     C         7\n",
            "3         2     A     C         3\n",
            "4         2     A     B         2\n",
            "5         2     B     C         6\n",
            "6         3     B     C         6\n",
            "7         3     C     D         5\n",
            "8         3     A     B         3\n",
            "9         4     B     D         2\n",
            "10        4     A     D         2\n",
            "11        4     B     C         5\n",
            "12        5     C     D         6\n",
            "13        5     A     D         1\n",
            "14        5     A     B         2\n",
            "15        6     A     B         2\n",
            "16        6     A     D         2\n",
            "17        6     B     D         3\n",
            "18        7     A     D         1\n",
            "19        7     B     D         5\n",
            "20        7     A     B         1\n",
            "21        8     C     D         5\n",
            "22        8     A     C         4\n",
            "23        8     A     B         3\n",
            "24        9     A     D         2\n",
            "25        9     A     B         1\n",
            "26        9     C     D         5\n",
            "27       10     A     C         5\n",
            "28       10     B     C         7\n",
            "29       10     A     B         2\n",
            "========================================\n"
          ]
        }
      ]
    },
    {
      "cell_type": "code",
      "source": [
        "from google.colab import drive\n",
        "drive.mount('/content/drive')"
      ],
      "metadata": {
        "id": "Ptpqaz-6RWvb"
      },
      "execution_count": null,
      "outputs": []
    }
  ]
}